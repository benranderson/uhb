{
 "cells": [
  {
   "cell_type": "code",
   "execution_count": 2,
   "metadata": {
    "collapsed": true
   },
   "outputs": [],
   "source": [
    "%matplotlib inline"
   ]
  },
  {
   "cell_type": "code",
   "execution_count": 3,
   "metadata": {
    "collapsed": true
   },
   "outputs": [],
   "source": [
    "import math\n",
    "from scipy import optimize\n",
    "from scipy.interpolate import interp1d\n",
    "import numpy as np\n",
    "import matplotlib.pyplot as plt"
   ]
  },
  {
   "cell_type": "markdown",
   "metadata": {},
   "source": [
    "# Inputs"
   ]
  },
  {
   "cell_type": "code",
   "execution_count": 98,
   "metadata": {
    "collapsed": true
   },
   "outputs": [],
   "source": [
    "D = 0.1731\n",
    "soil = \"dense sand\"\n",
    "psi = math.radians(32)\n",
    "c = 0\n",
    "gamma_bar = 18000\n",
    "W_tot = 214.78\n",
    "burial_depth = 1\n",
    "f = 0.6\n",
    "shear_factor = 0.3\n",
    "el_lengths = [1, 0.3, 1.5, 15]"
   ]
  },
  {
   "cell_type": "markdown",
   "metadata": {},
   "source": [
    "# General"
   ]
  },
  {
   "cell_type": "code",
   "execution_count": 28,
   "metadata": {},
   "outputs": [
    {
     "data": {
      "text/plain": [
       "3115.8"
      ]
     },
     "execution_count": 28,
     "metadata": {},
     "output_type": "execute_result"
    }
   ],
   "source": [
    "def soil_weight(gamma, D, H):\n",
    "    return gamma * D * H\n",
    "\n",
    "W_s = soil_weight(gamma_bar, D, burial_depth)\n",
    "W_s"
   ]
  },
  {
   "cell_type": "markdown",
   "metadata": {},
   "source": [
    "# Axial"
   ]
  },
  {
   "cell_type": "code",
   "execution_count": 113,
   "metadata": {},
   "outputs": [
    {
     "data": {
      "text/plain": [
       "1.08655"
      ]
     },
     "execution_count": 113,
     "metadata": {},
     "output_type": "execute_result"
    }
   ],
   "source": [
    "def depth_to_centreline(burial_depth, D):\n",
    "    return burial_depth + 0.5*D\n",
    "\n",
    "H = depth_to_centreline(burial_depth, D)\n",
    "H"
   ]
  },
  {
   "cell_type": "code",
   "execution_count": 115,
   "metadata": {},
   "outputs": [
    {
     "data": {
      "text/plain": [
       "[2505.5631597000697, 751.6689479100208, 3758.3447395501044, 37583.44739550105]"
      ]
     },
     "execution_count": 115,
     "metadata": {},
     "output_type": "execute_result"
    }
   ],
   "source": [
    "def axial_soil_force(D, c, H, f, gamma_bar, psi):\n",
    "    alpha = 0.608 - 0.123 * c - 0.274 / (c ** 2 + 1) + 0.695 / (c ** 3 + 1)\n",
    "    K_0 = 1 - (math.sin(psi))\n",
    "    return math.pi * D * alpha * c + math.pi * D * H * gamma_bar * (\n",
    "        0.5 * (1 + K_0)\n",
    "    ) * math.tan(f * psi)\n",
    "\n",
    "\n",
    "T_us = [\n",
    "    el_length * axial_soil_force(D, c, burial_depth, f, gamma_bar, psi)\n",
    "    for el_length in el_lengths\n",
    "]\n",
    "\n",
    "T_us"
   ]
  },
  {
   "cell_type": "code",
   "execution_count": 116,
   "metadata": {},
   "outputs": [
    {
     "data": {
      "image/png": "[encoded data removed]",
      "text/plain": [
       "<matplotlib.figure.Figure at 0x92a41d0>"
      ]
     },
     "metadata": {},
     "output_type": "display_data"
    }
   ],
   "source": [
    "psis = np.arange(math.radians(30), math.radians(42), math.radians(4))\n",
    "\n",
    "fig, ax = plt.subplots()\n",
    "\n",
    "for b in np.arange(0.5, 1.5, 0.5):\n",
    "\n",
    "    T_us = [\n",
    "        axial_soil_force(D, c, b, f, gamma_bar, psi)\n",
    "        for psi in psis\n",
    "    ]\n",
    "\n",
    "    ax.plot(psis, T_us, label=b)\n",
    "\n",
    "a_stiff_1 = [2.246e3, 2.571e3, 2.906e3, 3.253e3]\n",
    "a_stiff_05 = [1.213e3, 1.388e3, 1.569e3, 1.756e3]\n",
    "\n",
    "ax.plot(psis, a_stiff_1, label=\"FS2000 1.0\")\n",
    "ax.plot(psis, a_stiff_05, label=\"FS2000 0.5\")\n",
    "    \n",
    "ax.set_xlabel(\"psi [rad]\")\n",
    "ax.set_ylabel(\"Axial Soil Force [N/m/m]\")\n",
    "ax.legend()\n",
    "ax.grid()\n",
    "plt.show()"
   ]
  },
  {
   "cell_type": "code",
   "execution_count": 35,
   "metadata": {
    "collapsed": true
   },
   "outputs": [],
   "source": [
    "def axial_mobilisation(soil):\n",
    "    delta_ts = {\n",
    "        \"dense sand\": 0.003, \"loose sand\": 0.005, \"stiff clay\": 0.008, \"soft clay\": 0.01\n",
    "    }\n",
    "    return delta_ts.get(soil, ValueError(\"Unknown soil type.\"))\n",
    "\n",
    "delta_t = axial_mobilisation(soil)"
   ]
  },
  {
   "cell_type": "code",
   "execution_count": 36,
   "metadata": {},
   "outputs": [
    {
     "data": {
      "text/plain": [
       "[250556.31597000695, 1252781.5798500348, 12527815.798500348]"
      ]
     },
     "execution_count": 36,
     "metadata": {},
     "output_type": "execute_result"
    }
   ],
   "source": [
    "K_l = [T_u/delta_t for T_u in T_us]\n",
    "K_l"
   ]
  },
  {
   "cell_type": "markdown",
   "metadata": {},
   "source": [
    "# Lateral"
   ]
  },
  {
   "cell_type": "code",
   "execution_count": 10,
   "metadata": {
    "collapsed": true
   },
   "outputs": [],
   "source": [
    "def N_ch(c, H, D):\n",
    "\n",
    "    if c == 0:\n",
    "        return 0\n",
    "    x = H / D\n",
    "    \n",
    "    return min(6.752 + 0.065 * x - 11.063 / (x + 1) ** 2 + 7.119 / (x + 1) ** 3, 9)"
   ]
  },
  {
   "cell_type": "code",
   "execution_count": 157,
   "metadata": {},
   "outputs": [
    {
     "data": {
      "text/plain": [
       "4.1185315993155598"
      ]
     },
     "execution_count": 157,
     "metadata": {},
     "output_type": "execute_result"
    }
   ],
   "source": [
    "def N_qh(psi, H, D):\n",
    "    \n",
    "    if psi == 0:\n",
    "        return 0\n",
    "\n",
    "    if psi < 20:\n",
    "        psi = 20\n",
    "    elif psi > 45:\n",
    "        psi = 45\n",
    "        \n",
    "    psi_range = [20, 25, 30, 35, 40, 45]\n",
    "    a = [2.399, 3.332, 4.565, 6.816, 10.959, 17.658]\n",
    "    b = [0.439, 0.839, 1.234, 2.019, 1.783, 3.309]\n",
    "    c = [-0.03, -0.09, -0.089, -0.146, 0.045, 0.048]\n",
    "    d = [\n",
    "        1.059 * 10 ** -3,\n",
    "        5.606 * 10 ** -3,\n",
    "        4.275 * 10 ** -3,\n",
    "        7.651 * 10 ** -3,\n",
    "        -5.425 * 10 ** -3,\n",
    "        -6.443 * 10 ** -3\n",
    "    ]\n",
    "    e = [\n",
    "        -1.754 * 10 ** -5,\n",
    "        -1.319 * 10 ** -4,\n",
    "        -9.159 * 10 ** -5,\n",
    "        -1.683 * 10 ** -4,\n",
    "        -1.153 * 10 ** -4,\n",
    "        -1.299 * 10 ** -4\n",
    "    ]\n",
    "    x = H / D\n",
    "    def par(case):\n",
    "        return interp1d(psi_range, case)(psi)\n",
    "\n",
    "    return (\n",
    "        par(a) + par(b) * x + par(c) * x ** 2 + par(d) * x ** 3 + par(e) * x ** 4\n",
    "    )\n",
    "\n",
    "N_qh(psi, burial_depth, D)"
   ]
  },
  {
   "cell_type": "code",
   "execution_count": 160,
   "metadata": {},
   "outputs": [
    {
     "data": {
      "text/plain": [
       "40553.370302441428"
      ]
     },
     "execution_count": 160,
     "metadata": {},
     "output_type": "execute_result"
    }
   ],
   "source": [
    "def lateral_soil_force(c, H, D, psi, gamma):\n",
    "    return N_ch(c, H, D) * c * D + N_qh(psi, H, D) * gamma * H * D\n",
    "\n",
    "P_u = lateral_soil_force(c, H, D, 32, gamma_bar)\n",
    "P_u"
   ]
  },
  {
   "cell_type": "code",
   "execution_count": 68,
   "metadata": {},
   "outputs": [
    {
     "data": {
      "text/plain": [
       "0.0216375"
      ]
     },
     "execution_count": 68,
     "metadata": {},
     "output_type": "execute_result"
    }
   ],
   "source": [
    "def lateral_mobilisation(H, D):\n",
    "    return min(0.04 * (H + D / 2), 0.15 * D)\n",
    "\n",
    "delta_p = lateral_mobilisation(burial_depth, D)\n",
    "\n",
    "0.125*D"
   ]
  },
  {
   "cell_type": "code",
   "execution_count": 71,
   "metadata": {},
   "outputs": [
    {
     "data": {
      "text/plain": [
       "0.0216375"
      ]
     },
     "execution_count": 71,
     "metadata": {},
     "output_type": "execute_result"
    }
   ],
   "source": [
    "def lateral_mobilisation_fs2000(H, D, bound='mid'):\n",
    "    \n",
    "    mob = {\n",
    "        'lower': 0.1 * D,\n",
    "        'mid': 0.125 * D,\n",
    "        'upper': 1.15 * D,\n",
    "    }\n",
    "    \n",
    "    return mob.get(bound, ValueError(\"Unknown soil type.\"))\n",
    "\n",
    "lateral_mobilisation_fs2000(burial_depth, D, bound='mid')"
   ]
  },
  {
   "cell_type": "code",
   "execution_count": 14,
   "metadata": {},
   "outputs": [
    {
     "data": {
      "text/plain": [
       "1395048.7629161475"
      ]
     },
     "execution_count": 14,
     "metadata": {},
     "output_type": "execute_result"
    }
   ],
   "source": [
    "K_l = P_u / delta_p\n",
    "K_l"
   ]
  },
  {
   "cell_type": "markdown",
   "metadata": {},
   "source": [
    "# Vertical Uplift"
   ]
  },
  {
   "cell_type": "code",
   "execution_count": 15,
   "metadata": {},
   "outputs": [
    {
     "data": {
      "text/plain": [
       "0"
      ]
     },
     "execution_count": 15,
     "metadata": {},
     "output_type": "execute_result"
    }
   ],
   "source": [
    "def N_cv(c, H, D):\n",
    "\n",
    "    if c == 0:\n",
    "        return 0\n",
    "    \n",
    "    return min(2 * H / D, 10)\n",
    "        \n",
    "\n",
    "N_cv(c, H, D)"
   ]
  },
  {
   "cell_type": "code",
   "execution_count": 16,
   "metadata": {},
   "outputs": [
    {
     "data": {
      "text/plain": [
       "23.176776207012633"
      ]
     },
     "execution_count": 16,
     "metadata": {},
     "output_type": "execute_result"
    }
   ],
   "source": [
    "def N_q(psi):\n",
    "    return math.exp(math.pi * math.tan(psi)) * math.tan((math.pi / 4) + 0.5 * psi) ** 2\n",
    "\n",
    "N_q(psi)"
   ]
  },
  {
   "cell_type": "code",
   "execution_count": 41,
   "metadata": {},
   "outputs": [
    {
     "data": {
      "text/plain": [
       "4.201460007352555"
      ]
     },
     "execution_count": 41,
     "metadata": {},
     "output_type": "execute_result"
    }
   ],
   "source": [
    "def N_qv(psi, H, D):\n",
    "    \n",
    "    if psi == 0:\n",
    "        return 0\n",
    "    \n",
    "    return min(math.degrees(psi) * H / 44 / D, N_q(psi))\n",
    "\n",
    "N_qv(psi, burial_depth, D)"
   ]
  },
  {
   "cell_type": "code",
   "execution_count": 156,
   "metadata": {},
   "outputs": [
    {
     "data": {
      "text/plain": [
       "[818.18181818181813, 3272.7272727272725, 7363.6363636363631, 13090.90909090909]"
      ]
     },
     "execution_count": 156,
     "metadata": {},
     "output_type": "execute_result"
    }
   ],
   "source": [
    "def vertical_uplift_force(psi, c, D, gamma, H):\n",
    "    return N_cv(c, H, D) * c * D + N_qv(psi, H, D) * gamma * H * D\n",
    "\n",
    "Q_us = [vertical_uplift_force(psi, c, D, gamma_bar, burial_depth) for burial_depth in np.arange(0.25, 1.25, 0.25)]\n",
    "Q_us"
   ]
  },
  {
   "cell_type": "code",
   "execution_count": 43,
   "metadata": {},
   "outputs": [
    {
     "data": {
      "text/plain": [
       "0.017310000000000002"
      ]
     },
     "execution_count": 43,
     "metadata": {},
     "output_type": "execute_result"
    }
   ],
   "source": [
    "def vertical_uplift_mobilisation(soil, H, D):\n",
    "    if \"sand\" in soil:\n",
    "        return min(0.02 * H, 0.1 * D)\n",
    "\n",
    "    elif \"clay\" in soil:\n",
    "        return min(0.2 * H, 0.2 * D)\n",
    "\n",
    "    else:\n",
    "        raise ValueError(\"Unknown soil type.\")\n",
    "\n",
    "delta_qu = vertical_uplift_mobilisation(soil, burial_depth, D)\n",
    "delta_qu"
   ]
  },
  {
   "cell_type": "code",
   "execution_count": 20,
   "metadata": {},
   "outputs": [
    {
     "data": {
      "text/plain": [
       "756262.8013234597"
      ]
     },
     "execution_count": 20,
     "metadata": {},
     "output_type": "execute_result"
    }
   ],
   "source": [
    "k_vu = Q_u / delta_qu\n",
    "k_vu"
   ]
  },
  {
   "cell_type": "code",
   "execution_count": 46,
   "metadata": {},
   "outputs": [
    {
     "data": {
      "text/plain": [
       "8515.8"
      ]
     },
     "execution_count": 46,
     "metadata": {},
     "output_type": "execute_result"
    }
   ],
   "source": [
    "def uplift_resistance(shear_factor, H, D, gamma):\n",
    "    \"\"\"DNV-RP-F110 2007\n",
    "    \"\"\"\n",
    "    return (1 + shear_factor * H / D) * (gamma * H * D)\n",
    "\n",
    "R_max = uplift_resistance(shear_factor, burial_depth, D, gamma_bar)\n",
    "R_max"
   ]
  },
  {
   "cell_type": "code",
   "execution_count": 56,
   "metadata": {},
   "outputs": [
    {
     "data": {
      "text/plain": [
       "1619.9999999999998"
      ]
     },
     "execution_count": 56,
     "metadata": {},
     "output_type": "execute_result"
    }
   ],
   "source": [
    "vertical_uplift = R_max - W_s\n",
    "v = vertical_uplift * 0.3\n",
    "v"
   ]
  },
  {
   "cell_type": "markdown",
   "metadata": {},
   "source": [
    "# Vertical Bearing"
   ]
  },
  {
   "cell_type": "code",
   "execution_count": 22,
   "metadata": {
    "collapsed": true
   },
   "outputs": [],
   "source": [
    "def cot(psi):\n",
    "    return 1 / math.tan(psi)"
   ]
  },
  {
   "cell_type": "code",
   "execution_count": 23,
   "metadata": {},
   "outputs": [
    {
     "data": {
      "text/plain": [
       "35.49026070689833"
      ]
     },
     "execution_count": 23,
     "metadata": {},
     "output_type": "execute_result"
    }
   ],
   "source": [
    "def N_c(psi):\n",
    "    return (N_q(psi) - 1)*cot(psi)\n",
    "\n",
    "N_c(psi)"
   ]
  },
  {
   "cell_type": "code",
   "execution_count": 24,
   "metadata": {},
   "outputs": [
    {
     "data": {
      "text/plain": [
       "30.214652959465663"
      ]
     },
     "execution_count": 24,
     "metadata": {},
     "output_type": "execute_result"
    }
   ],
   "source": [
    "def N_gamma(psi):\n",
    "    return 2*(N_q(psi) + 1)*math.tan(psi)\n",
    "\n",
    "N_gamma(psi)"
   ]
  },
  {
   "cell_type": "code",
   "execution_count": 25,
   "metadata": {},
   "outputs": [
    {
     "data": {
      "image/png": "[encoded data removed]",
      "text/plain": [
       "<matplotlib.figure.Figure at 0x9470518>"
      ]
     },
     "metadata": {},
     "output_type": "display_data"
    }
   ],
   "source": [
    "psis = np.arange(0.001, 0.8, 0.01)\n",
    "N_qs = [N_q(psi) for psi in psis]\n",
    "N_cs = [N_c(psi) for psi in psis]\n",
    "N_gammas = [N_gamma(psi) for psi in psis]\n",
    "fig, ax = plt.subplots()\n",
    "ax.plot(psis, N_qs, label=\"N_q\")\n",
    "ax.plot(psis, N_cs, label=\"N_c\")\n",
    "ax.plot(psis, N_gammas, label=\"N_gamma\")\n",
    "ax.set_xlim(0, 0.8)\n",
    "ax.set_ylim(0, 80)\n",
    "ax.set_xlabel(\"psi [rad]\")\n",
    "ax.set_ylabel(\"Bearing Capacity factor\")\n",
    "ax.legend()\n",
    "ax.grid()\n",
    "plt.show()"
   ]
  },
  {
   "cell_type": "code",
   "execution_count": 26,
   "metadata": {},
   "outputs": [
    {
     "data": {
      "text/plain": [
       "0.0010820590598795271"
      ]
     },
     "execution_count": 26,
     "metadata": {},
     "output_type": "execute_result"
    }
   ],
   "source": [
    "def penetration_depth(c, psi, gamma_bar, D, W_tot):   \n",
    "    \n",
    "    def B(z, D):\n",
    "        if z <= 0.5*D:\n",
    "            return 2*math.sqrt(z*(D-z))\n",
    "        return D\n",
    "    \n",
    "    def Q_d(z):\n",
    "        return (c*N_c(psi)+gamma_bar*z*N_q(psi)+0.5*gamma_bar*B(z, D)*N_gamma(psi))*B(z, D) - W_tot\n",
    "    \n",
    "    return optimize.newton(Q_d, 1e-3)\n",
    "\n",
    "z = penetration_depth(c, psi, gamma_bar, D, W_tot)\n",
    "z"
   ]
  },
  {
   "cell_type": "code",
   "execution_count": 27,
   "metadata": {},
   "outputs": [
    {
     "data": {
      "text/plain": [
       "198491.938160855"
      ]
     },
     "execution_count": 27,
     "metadata": {},
     "output_type": "execute_result"
    }
   ],
   "source": [
    "k_vert = W_tot / z\n",
    "k_vert"
   ]
  },
  {
   "cell_type": "code",
   "execution_count": 67,
   "metadata": {},
   "outputs": [
    {
     "data": {
      "text/plain": [
       "84913.97041133148"
      ]
     },
     "execution_count": 67,
     "metadata": {},
     "output_type": "execute_result"
    }
   ],
   "source": [
    "def Qd(psi, c, D, gamma, H):\n",
    "\n",
    "    return (\n",
    "        N_c(psi) * c * D + N_q(psi) * gamma * H * D + N_gamma(psi) * (gamma + (1025 * 9.81)) * D ** 2 / 2\n",
    "    )\n",
    "\n",
    "Q_d = Qd(psi, c, D, gamma_bar, burial_depth)\n",
    "Q_d"
   ]
  },
  {
   "cell_type": "code",
   "execution_count": 55,
   "metadata": {},
   "outputs": [
    {
     "data": {
      "text/plain": [
       "0.017310000000000002"
      ]
     },
     "execution_count": 55,
     "metadata": {},
     "output_type": "execute_result"
    }
   ],
   "source": [
    "def vertical_downward_mobilisation(soil, D):\n",
    "    \n",
    "    if \"sand\" in soil:\n",
    "        return 0.1 * D\n",
    "\n",
    "    elif \"clay\" in soil:\n",
    "        return 0.2 * D\n",
    "\n",
    "    else:\n",
    "        raise ValueError(\"Unknown soil type.\")\n",
    "\n",
    "delta_qd = vertical_downward_mobilisation(soil, D)\n",
    "delta_qd"
   ]
  },
  {
   "cell_type": "markdown",
   "metadata": {},
   "source": [
    "# Foundation Profile "
   ]
  },
  {
   "cell_type": "code",
   "execution_count": 142,
   "metadata": {
    "collapsed": true
   },
   "outputs": [],
   "source": [
    "E = 2.07e11\n",
    "I = 1.6895e-05\n",
    "W_sub = 193.34\n",
    "gamma_factor = 1\n",
    "delta = 0.5\n",
    "element_length = 0.3"
   ]
  },
  {
   "cell_type": "code",
   "execution_count": 143,
   "metadata": {},
   "outputs": [
    {
     "data": {
      "text/plain": [
       "28.407128251897223"
      ]
     },
     "execution_count": 143,
     "metadata": {},
     "output_type": "execute_result"
    }
   ],
   "source": [
    "def natural_wavelength(gamma_factor, E, I, delta_f, W_sub):\n",
    "    \"\"\"Returns the factored natural wavelength i.e. the distance from prop to\n",
    "    touchdown.\n",
    "\n",
    "    JIP \n",
    "\n",
    "    :param E: Young's Modulus []\n",
    "    :param I: Second moment of area []\n",
    "    :param delta_f: \n",
    "    :W_sub: Submerged pipe weight [kg/m^3]\n",
    "    \"\"\"\n",
    "    return gamma_factor * (72 * E * I * delta_f / W_sub) ** (1 / 4)\n",
    "\n",
    "natural_wavelength(gamma_factor, E, I, delta, W_sub)"
   ]
  },
  {
   "cell_type": "code",
   "execution_count": 146,
   "metadata": {
    "collapsed": true
   },
   "outputs": [],
   "source": [
    "def foundation_profile(x, delta_f, L_o):\n",
    "    \"\"\"Returns the idealised imperfection profile.\n",
    "\n",
    "    JIP    \n",
    "    \"\"\"\n",
    "    return round(delta_f * (x / L_o) ** 3 * (4 - 3 * x / L_o), 4)"
   ]
  },
  {
   "cell_type": "code",
   "execution_count": null,
   "metadata": {
    "collapsed": true
   },
   "outputs": [],
   "source": []
  },
  {
   "cell_type": "code",
   "execution_count": 149,
   "metadata": {},
   "outputs": [
    {
     "data": {
      "text/plain": [
       "array([[  2.84071283e+01,   5.00000000e-01],\n",
       "       [  2.81071283e+01,   4.99700000e-01],\n",
       "       [  2.78071283e+01,   4.98700000e-01],\n",
       "       [  2.75071283e+01,   4.97100000e-01],\n",
       "       [  2.72071283e+01,   4.94900000e-01],\n",
       "       [  2.69071283e+01,   4.92200000e-01],\n",
       "       [  2.66071283e+01,   4.88900000e-01],\n",
       "       [  2.63071283e+01,   4.85200000e-01],\n",
       "       [  2.60071283e+01,   4.80900000e-01],\n",
       "       [  2.57071283e+01,   4.76200000e-01],\n",
       "       [  2.54071283e+01,   4.71100000e-01],\n",
       "       [  2.51071283e+01,   4.65500000e-01],\n",
       "       [  2.48071283e+01,   4.59600000e-01],\n",
       "       [  2.45071283e+01,   4.53300000e-01],\n",
       "       [  2.42071283e+01,   4.46600000e-01],\n",
       "       [  2.39071283e+01,   4.39700000e-01],\n",
       "       [  2.36071283e+01,   4.32400000e-01],\n",
       "       [  2.33071283e+01,   4.24900000e-01],\n",
       "       [  2.30071283e+01,   4.17100000e-01],\n",
       "       [  2.27071283e+01,   4.09100000e-01],\n",
       "       [  2.24071283e+01,   4.00900000e-01],\n",
       "       [  2.21071283e+01,   3.92400000e-01],\n",
       "       [  2.18071283e+01,   3.83900000e-01],\n",
       "       [  2.15071283e+01,   3.75100000e-01],\n",
       "       [  2.12071283e+01,   3.66200000e-01],\n",
       "       [  2.09071283e+01,   3.57200000e-01],\n",
       "       [  2.06071283e+01,   3.48100000e-01],\n",
       "       [  2.03071283e+01,   3.38900000e-01],\n",
       "       [  2.00071283e+01,   3.29600000e-01],\n",
       "       [  1.97071283e+01,   3.20300000e-01],\n",
       "       [  1.94071283e+01,   3.11000000e-01],\n",
       "       [  1.91071283e+01,   3.01600000e-01],\n",
       "       [  1.88071283e+01,   2.92200000e-01],\n",
       "       [  1.85071283e+01,   2.82800000e-01],\n",
       "       [  1.82071283e+01,   2.73500000e-01],\n",
       "       [  1.79071283e+01,   2.64100000e-01],\n",
       "       [  1.76071283e+01,   2.54800000e-01],\n",
       "       [  1.73071283e+01,   2.45600000e-01],\n",
       "       [  1.70071283e+01,   2.36500000e-01],\n",
       "       [  1.67071283e+01,   2.27400000e-01],\n",
       "       [  1.64071283e+01,   2.18400000e-01],\n",
       "       [  1.61071283e+01,   2.09500000e-01],\n",
       "       [  1.58071283e+01,   2.00800000e-01],\n",
       "       [  1.55071283e+01,   1.92100000e-01],\n",
       "       [  1.52071283e+01,   1.83600000e-01],\n",
       "       [  1.49071283e+01,   1.75300000e-01],\n",
       "       [  1.46071283e+01,   1.67100000e-01],\n",
       "       [  1.43071283e+01,   1.59000000e-01],\n",
       "       [  1.40071283e+01,   1.51100000e-01],\n",
       "       [  1.37071283e+01,   1.43400000e-01],\n",
       "       [  1.34071283e+01,   1.35800000e-01],\n",
       "       [  1.31071283e+01,   1.28500000e-01],\n",
       "       [  1.28071283e+01,   1.21300000e-01],\n",
       "       [  1.25071283e+01,   1.14300000e-01],\n",
       "       [  1.22071283e+01,   1.07600000e-01],\n",
       "       [  1.19071283e+01,   1.01000000e-01],\n",
       "       [  1.16071283e+01,   9.46000000e-02],\n",
       "       [  1.13071283e+01,   8.85000000e-02],\n",
       "       [  1.10071283e+01,   8.25000000e-02],\n",
       "       [  1.07071283e+01,   7.68000000e-02],\n",
       "       [  1.04071283e+01,   7.13000000e-02],\n",
       "       [  1.01071283e+01,   6.60000000e-02],\n",
       "       [  9.80712825e+00,   6.10000000e-02],\n",
       "       [  9.50712825e+00,   5.62000000e-02],\n",
       "       [  9.20712825e+00,   5.15000000e-02],\n",
       "       [  8.90712825e+00,   4.72000000e-02],\n",
       "       [  8.60712825e+00,   4.30000000e-02],\n",
       "       [  8.30712825e+00,   3.90000000e-02],\n",
       "       [  8.00712825e+00,   3.53000000e-02],\n",
       "       [  7.70712825e+00,   3.18000000e-02],\n",
       "       [  7.40712825e+00,   2.85000000e-02],\n",
       "       [  7.10712825e+00,   2.54000000e-02],\n",
       "       [  6.80712825e+00,   2.26000000e-02],\n",
       "       [  6.50712825e+00,   1.99000000e-02],\n",
       "       [  6.20712825e+00,   1.74000000e-02],\n",
       "       [  5.90712825e+00,   1.52000000e-02],\n",
       "       [  5.60712825e+00,   1.31000000e-02],\n",
       "       [  5.30712825e+00,   1.12000000e-02],\n",
       "       [  5.00712825e+00,   9.50000000e-03],\n",
       "       [  4.70712825e+00,   8.00000000e-03],\n",
       "       [  4.40712825e+00,   6.60000000e-03],\n",
       "       [  4.10712825e+00,   5.40000000e-03],\n",
       "       [  3.80712825e+00,   4.30000000e-03],\n",
       "       [  3.50712825e+00,   3.40000000e-03],\n",
       "       [  3.20712825e+00,   2.60000000e-03],\n",
       "       [  2.90712825e+00,   2.00000000e-03],\n",
       "       [  2.60712825e+00,   1.40000000e-03],\n",
       "       [  2.30712825e+00,   1.00000000e-03],\n",
       "       [  2.00712825e+00,   7.00000000e-04],\n",
       "       [  1.70712825e+00,   4.00000000e-04],\n",
       "       [  1.40712825e+00,   2.00000000e-04],\n",
       "       [  1.10712825e+00,   1.00000000e-04],\n",
       "       [  8.07128252e-01,   0.00000000e+00],\n",
       "       [  5.07128252e-01,   0.00000000e+00],\n",
       "       [  2.07128252e-01,   0.00000000e+00]])"
      ]
     },
     "execution_count": 149,
     "metadata": {},
     "output_type": "execute_result"
    }
   ],
   "source": [
    "def determine_profile(element_length, delta, E, I, W_sub, gamma_factor):\n",
    "\n",
    "    L_o = natural_wavelength(gamma_factor, E, I, delta, W_sub)\n",
    "    xs = np.arange(L_o, 0, -element_length)\n",
    "    w_fs = [foundation_profile(x, delta, L_o) for x in xs]\n",
    "    return np.stack((xs, w_fs), axis=-1)\n",
    "\n",
    "profile = determine_profile(element_length, delta, E, I, W_sub, gamma_factor)\n",
    "profile"
   ]
  },
  {
   "cell_type": "code",
   "execution_count": null,
   "metadata": {
    "collapsed": true
   },
   "outputs": [],
   "source": []
  },
  {
   "cell_type": "code",
   "execution_count": null,
   "metadata": {
    "collapsed": true
   },
   "outputs": [],
   "source": []
  },
  {
   "cell_type": "code",
   "execution_count": null,
   "metadata": {
    "collapsed": true
   },
   "outputs": [],
   "source": []
  },
  {
   "cell_type": "code",
   "execution_count": null,
   "metadata": {
    "collapsed": true
   },
   "outputs": [],
   "source": []
  },
  {
   "cell_type": "code",
   "execution_count": null,
   "metadata": {
    "collapsed": true
   },
   "outputs": [],
   "source": []
  }
 ],
 "metadata": {
  "kernelspec": {
   "display_name": "Python 3",
   "language": "python",
   "name": "python3"
  },
  "language_info": {
   "codemirror_mode": {
    "name": "ipython",
    "version": 3
   },
   "file_extension": ".py",
   "mimetype": "text/x-python",
   "name": "python",
   "nbconvert_exporter": "python",
   "pygments_lexer": "ipython3",
   "version": "3.6.3"
  }
 },
 "nbformat": 4,
 "nbformat_minor": 2
}
