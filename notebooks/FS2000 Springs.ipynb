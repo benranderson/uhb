{
 "cells": [
  {
   "cell_type": "code",
   "execution_count": 2,
   "metadata": {
    "collapsed": true
   },
   "outputs": [],
   "source": [
    "%matplotlib inline\n",
    "import math\n",
    "from scipy import optimize\n",
    "from scipy.interpolate import interp1d\n",
    "import numpy as np\n",
    "import matplotlib.pyplot as plt"
   ]
  },
  {
   "cell_type": "markdown",
   "metadata": {},
   "source": [
    "# Inputs"
   ]
  },
  {
   "cell_type": "code",
   "execution_count": 17,
   "metadata": {},
   "outputs": [],
   "source": [
    "D = 0.1731\n",
    "soil = \"dense sand\"\n",
    "psi = math.radians(32)\n",
    "c = 0\n",
    "gamma_bar = 18000\n",
    "W_tot = 214.78\n",
    "burial_depths = np.arange(0.25, 1.25, 0.25)\n",
    "f = 0.6\n",
    "shear_factor = 0.3\n",
    "el_lengths = [0.3, 1.5, 15]"
   ]
  },
  {
   "cell_type": "markdown",
   "metadata": {},
   "source": [
    "# General"
   ]
  },
  {
   "cell_type": "code",
   "execution_count": 5,
   "metadata": {
    "scrolled": true
   },
   "outputs": [
    {
     "data": {
      "text/plain": [
       "[778.95000000000005,\n",
       " 1557.9000000000001,\n",
       " 2336.8500000000004,\n",
       " 3115.8000000000002]"
      ]
     },
     "execution_count": 5,
     "metadata": {},
     "output_type": "execute_result"
    }
   ],
   "source": [
    "def soil_weight(gamma, D, H):\n",
    "    return gamma * D * H\n",
    "\n",
    "soil_weights = [soil_weight(gamma_bar, D, burial_depth) for burial_depth in burial_depths]\n",
    "soil_weights"
   ]
  },
  {
   "cell_type": "markdown",
   "metadata": {},
   "source": [
    "# Vertical Uplift"
   ]
  },
  {
   "cell_type": "code",
   "execution_count": 60,
   "metadata": {},
   "outputs": [
    {
     "data": {
      "text/plain": [
       "[0.0050000000000000001, 0.01, 0.014999999999999999, 0.017310000000000002]"
      ]
     },
     "execution_count": 60,
     "metadata": {},
     "output_type": "execute_result"
    }
   ],
   "source": [
    "def vertical_uplift_mobilisation(soil, H, D):\n",
    "    if \"sand\" in soil:\n",
    "        return min(0.02 * H, 0.1 * D)\n",
    "\n",
    "    elif \"clay\" in soil:\n",
    "        return min(0.2 * H, 0.2 * D)\n",
    "\n",
    "    else:\n",
    "        raise ValueError(\"Unknown soil type.\")\n",
    "\n",
    "delta_qus = [vertical_uplift_mobilisation(soil, burial_depth, D) for burial_depth in burial_depths]\n",
    "delta_qus"
   ]
  },
  {
   "cell_type": "code",
   "execution_count": 8,
   "metadata": {},
   "outputs": [
    {
     "data": {
      "text/plain": [
       "[0, 0, 0, 0]"
      ]
     },
     "execution_count": 8,
     "metadata": {},
     "output_type": "execute_result"
    }
   ],
   "source": [
    "def N_cv(c, H, D):\n",
    "\n",
    "    if c == 0:\n",
    "        return 0\n",
    "    \n",
    "    return min(2 * H / D, 10)\n",
    "        \n",
    "N_cvs = [N_cv(c, burial_depth, D) for burial_depth in burial_depths]\n",
    "N_cvs"
   ]
  },
  {
   "cell_type": "code",
   "execution_count": 9,
   "metadata": {},
   "outputs": [
    {
     "data": {
      "text/plain": [
       "23.176776207012633"
      ]
     },
     "execution_count": 9,
     "metadata": {},
     "output_type": "execute_result"
    }
   ],
   "source": [
    "def N_q(psi):\n",
    "    return math.exp(math.pi * math.tan(psi)) * math.tan((math.pi / 4) + 0.5 * psi) ** 2\n",
    "\n",
    "N_q(psi)"
   ]
  },
  {
   "cell_type": "code",
   "execution_count": 63,
   "metadata": {},
   "outputs": [
    {
     "data": {
      "text/plain": [
       "[1.0503650018381387, 2.1007300036762775, 3.1510950055144158, 4.201460007352555]"
      ]
     },
     "execution_count": 63,
     "metadata": {},
     "output_type": "execute_result"
    }
   ],
   "source": [
    "def N_qv(psi, H, D):\n",
    "    \n",
    "    if psi == 0:\n",
    "        return 0\n",
    "    \n",
    "    return min(math.degrees(psi) * H / 44 / D, N_q(psi))\n",
    "\n",
    "N_qvs = [N_qv(psi, burial_depth, D) for burial_depth in burial_depths]\n",
    "N_qvs"
   ]
  },
  {
   "cell_type": "code",
   "execution_count": 64,
   "metadata": {},
   "outputs": [
    {
     "data": {
      "text/plain": [
       "[1116.45, 2907.8999999999996, 5374.3499999999995, 8515.7999999999993]"
      ]
     },
     "execution_count": 64,
     "metadata": {},
     "output_type": "execute_result"
    }
   ],
   "source": [
    "def uplift_resistance(shear_factor, H, D, gamma):\n",
    "    \"\"\"DNV-RP-F110 2007\n",
    "    \"\"\"\n",
    "    if \"sand\" in soil:\n",
    "        return (1 + shear_factor * H / D) * (gamma * H * D)\n",
    "\n",
    "    elif \"clay\" in soil:\n",
    "        return gamma * H * D + 2 * H * c\n",
    "\n",
    "    else:\n",
    "        raise ValueError(\"Unknown soil type.\")\n",
    "  \n",
    "R_maxs = [uplift_resistance(shear_factor, burial_depth, D, gamma_bar) for burial_depth in burial_depths]\n",
    "R_maxs"
   ]
  },
  {
   "cell_type": "markdown",
   "metadata": {},
   "source": [
    "## RC 1"
   ]
  },
  {
   "cell_type": "code",
   "execution_count": 18,
   "metadata": {},
   "outputs": [
    {
     "data": {
      "text/plain": [
       "[337.5, 1349.9999999999995, 3037.4999999999991, 5399.9999999999991]"
      ]
     },
     "execution_count": 18,
     "metadata": {},
     "output_type": "execute_result"
    }
   ],
   "source": [
    "vertical_uplifts = [(R_max - soil_weight) for R_max, soil_weight in zip(R_maxs, soil_weights)]\n",
    "vertical_uplifts"
   ]
  },
  {
   "cell_type": "markdown",
   "metadata": {},
   "source": [
    "## RC 5"
   ]
  },
  {
   "cell_type": "code",
   "execution_count": 19,
   "metadata": {},
   "outputs": [
    {
     "data": {
      "text/plain": [
       "[101.25, 404.99999999999983, 911.24999999999966, 1619.9999999999998]"
      ]
     },
     "execution_count": 19,
     "metadata": {},
     "output_type": "execute_result"
    }
   ],
   "source": [
    "element_length = el_lengths[0]\n",
    "vertical_uplifts_imp = [element_length * (R_max - soil_weight) for R_max, soil_weight in zip(R_maxs, soil_weights)]\n",
    "vertical_uplifts_imp"
   ]
  },
  {
   "cell_type": "code",
   "execution_count": 21,
   "metadata": {},
   "outputs": [
    {
     "data": {
      "text/plain": [
       "[-233.685, -467.37, -701.05500000000006, -934.74000000000001]"
      ]
     },
     "execution_count": 21,
     "metadata": {},
     "output_type": "execute_result"
    }
   ],
   "source": [
    "negative_resists = [-element_length * soil_weight for soil_weight in soil_weights]\n",
    "negative_resists"
   ]
  },
  {
   "cell_type": "markdown",
   "metadata": {},
   "source": [
    "# Axial"
   ]
  },
  {
   "cell_type": "code",
   "execution_count": 24,
   "metadata": {
    "collapsed": true
   },
   "outputs": [],
   "source": [
    "def axial_soil_force(D, c, H, f, gamma_bar, psi):\n",
    "    alpha = 0.608 - 0.123 * c - 0.274 / (c ** 2 + 1) + 0.695 / (c ** 3 + 1)\n",
    "    K_0 = 1 - (math.sin(psi))\n",
    "    return math.pi * D * alpha * c + math.pi * D * H * gamma_bar * (\n",
    "        0.5 * (1 + K_0)\n",
    "    ) * math.tan(f * psi)"
   ]
  },
  {
   "cell_type": "code",
   "execution_count": 28,
   "metadata": {},
   "outputs": [
    {
     "data": {
      "text/plain": [
       "0.003"
      ]
     },
     "execution_count": 28,
     "metadata": {},
     "output_type": "execute_result"
    }
   ],
   "source": [
    "def axial_mobilisation(soil):\n",
    "    delta_ts = {\n",
    "        \"dense sand\": 0.003, \"loose sand\": 0.005, \"stiff clay\": 0.008, \"soft clay\": 0.01\n",
    "    }\n",
    "    return delta_ts.get(soil, ValueError(\"Unknown soil type.\"))\n",
    "\n",
    "delta_t = axial_mobilisation(soil)\n",
    "delta_t"
   ]
  },
  {
   "cell_type": "markdown",
   "metadata": {},
   "source": [
    "## RC 7"
   ]
  },
  {
   "cell_type": "code",
   "execution_count": 25,
   "metadata": {},
   "outputs": [
    {
     "data": {
      "text/plain": [
       "[187.91723697750521,\n",
       " 375.83447395501042,\n",
       " 563.75171093251561,\n",
       " 751.66894791002085]"
      ]
     },
     "execution_count": 25,
     "metadata": {},
     "output_type": "execute_result"
    }
   ],
   "source": [
    "element_length = el_lengths[0]\n",
    "T_us = [\n",
    "    element_length * axial_soil_force(D, c, burial_depth, f, gamma_bar, psi)\n",
    "    for burial_depth in burial_depths\n",
    "]\n",
    "\n",
    "T_us"
   ]
  },
  {
   "cell_type": "markdown",
   "metadata": {},
   "source": [
    "## RC 8"
   ]
  },
  {
   "cell_type": "code",
   "execution_count": 26,
   "metadata": {},
   "outputs": [
    {
     "data": {
      "text/plain": [
       "[939.58618488752609,\n",
       " 1879.1723697750522,\n",
       " 2818.7585546625783,\n",
       " 3758.3447395501044]"
      ]
     },
     "execution_count": 26,
     "metadata": {},
     "output_type": "execute_result"
    }
   ],
   "source": [
    "element_length = el_lengths[1]\n",
    "T_us = [\n",
    "    element_length * axial_soil_force(D, c, burial_depth, f, gamma_bar, psi)\n",
    "    for burial_depth in burial_depths\n",
    "]\n",
    "\n",
    "T_us"
   ]
  },
  {
   "cell_type": "markdown",
   "metadata": {},
   "source": [
    "## RC 9"
   ]
  },
  {
   "cell_type": "code",
   "execution_count": 27,
   "metadata": {},
   "outputs": [
    {
     "data": {
      "text/plain": [
       "[9395.8618488752618,\n",
       " 18791.723697750524,\n",
       " 28187.585546625782,\n",
       " 37583.447395501047]"
      ]
     },
     "execution_count": 27,
     "metadata": {},
     "output_type": "execute_result"
    }
   ],
   "source": [
    "element_length = el_lengths[2]\n",
    "T_us = [\n",
    "    element_length * axial_soil_force(D, c, burial_depth, f, gamma_bar, psi)\n",
    "    for burial_depth in burial_depths\n",
    "]\n",
    "\n",
    "T_us"
   ]
  },
  {
   "cell_type": "markdown",
   "metadata": {},
   "source": [
    "# Lateral"
   ]
  },
  {
   "cell_type": "code",
   "execution_count": 33,
   "metadata": {},
   "outputs": [
    {
     "data": {
      "text/plain": [
       "[0.0216375, 0.0216375, 0.0216375, 0.0216375]"
      ]
     },
     "execution_count": 33,
     "metadata": {},
     "output_type": "execute_result"
    }
   ],
   "source": [
    "def lateral_mobilisation(H, D, bound='mid'):\n",
    "    \n",
    "    mob = {\n",
    "        'lower': 0.1 * D,\n",
    "        'mid': 0.125 * D,\n",
    "        'upper': 1.15 * D,\n",
    "    }\n",
    "    \n",
    "    return mob.get(bound, ValueError(\"Unknown bound.\"))\n",
    "\n",
    "delta_ls = [lateral_mobilisation(burial_depth, D, bound='mid') for burial_depth in burial_depths]\n",
    "delta_ls"
   ]
  },
  {
   "cell_type": "code",
   "execution_count": 30,
   "metadata": {},
   "outputs": [
    {
     "data": {
      "text/plain": [
       "[0, 0, 0, 0]"
      ]
     },
     "execution_count": 30,
     "metadata": {},
     "output_type": "execute_result"
    }
   ],
   "source": [
    "def N_ch(c, H, D):\n",
    "\n",
    "    if c == 0:\n",
    "        return 0\n",
    "    x = H / D\n",
    "    \n",
    "    return min(6.752 + 0.065 * x - 11.063 / (x + 1) ** 2 + 7.119 / (x + 1) ** 3, 9)\n",
    "\n",
    "N_chs = [N_ch(c, burial_depth, D) for burial_depth in burial_depths]\n",
    "N_chs"
   ]
  },
  {
   "cell_type": "code",
   "execution_count": 37,
   "metadata": {},
   "outputs": [
    {
     "data": {
      "text/plain": [
       "[2.9735646066444463,\n",
       " 3.4410505180654423,\n",
       " 3.8178519512614839,\n",
       " 4.1185315993155598]"
      ]
     },
     "execution_count": 37,
     "metadata": {},
     "output_type": "execute_result"
    }
   ],
   "source": [
    "def N_qh(psi, H, D):\n",
    "    \n",
    "    if psi == 0:\n",
    "        return 0\n",
    "\n",
    "    if psi < 20:\n",
    "        psi = 20\n",
    "    elif psi > 45:\n",
    "        psi = 45\n",
    "        \n",
    "    psi_range = [20, 25, 30, 35, 40, 45]\n",
    "    a = [2.399, 3.332, 4.565, 6.816, 10.959, 17.658]\n",
    "    b = [0.439, 0.839, 1.234, 2.019, 1.783, 3.309]\n",
    "    c = [-0.03, -0.09, -0.089, -0.146, 0.045, 0.048]\n",
    "    d = [\n",
    "        1.059 * 10 ** -3,\n",
    "        5.606 * 10 ** -3,\n",
    "        4.275 * 10 ** -3,\n",
    "        7.651 * 10 ** -3,\n",
    "        -5.425 * 10 ** -3,\n",
    "        -6.443 * 10 ** -3\n",
    "    ]\n",
    "    e = [\n",
    "        -1.754 * 10 ** -5,\n",
    "        -1.319 * 10 ** -4,\n",
    "        -9.159 * 10 ** -5,\n",
    "        -1.683 * 10 ** -4,\n",
    "        -1.153 * 10 ** -4,\n",
    "        -1.299 * 10 ** -4\n",
    "    ]\n",
    "    x = H / D\n",
    "    def par(case):\n",
    "        return interp1d(psi_range, case)(psi)\n",
    "\n",
    "    return (\n",
    "        par(a) + par(b) * x + par(c) * x ** 2 + par(d) * x ** 3 + par(e) * x ** 4\n",
    "    )\n",
    "\n",
    "N_qhs = [N_qh(psi, burial_depth, D) for burial_depth in burial_depths]\n",
    "N_qhs\n",
    "\n",
    "N_qh(psi, burial_depth, D)"
   ]
  },
  {
   "cell_type": "markdown",
   "metadata": {},
   "source": [
    "## RC 2 and RC 4"
   ]
  },
  {
   "cell_type": "code",
   "execution_count": 40,
   "metadata": {},
   "outputs": [
    {
     "data": {
      "text/plain": [
       "[8485.5388189006953,\n",
       " 17599.278939336185,\n",
       " 28420.497763982647,\n",
       " 40553.370302441428]"
      ]
     },
     "execution_count": 40,
     "metadata": {},
     "output_type": "execute_result"
    }
   ],
   "source": [
    "Hs = [(burial_depth + D/2) for burial_depth in burial_depths]\n",
    "\n",
    "def lateral_soil_force(c, H, D, psi, gamma):\n",
    "    return N_ch(c, H, D) * c * D + N_qh(psi, H, D) * gamma * H * D\n",
    "\n",
    "P_us = [lateral_soil_force(c, H, D, 32, gamma_bar) for H in Hs]\n",
    "P_us"
   ]
  },
  {
   "cell_type": "markdown",
   "metadata": {},
   "source": [
    "# Vertical Bearing"
   ]
  },
  {
   "cell_type": "code",
   "execution_count": 47,
   "metadata": {},
   "outputs": [
    {
     "data": {
      "text/plain": [
       "0.017310000000000002"
      ]
     },
     "execution_count": 47,
     "metadata": {},
     "output_type": "execute_result"
    }
   ],
   "source": [
    "def vertical_downward_mobilisation(soil, D):\n",
    "    \n",
    "    if \"sand\" in soil:\n",
    "        return 0.1 * D\n",
    "\n",
    "    elif \"clay\" in soil:\n",
    "        return 0.2 * D\n",
    "\n",
    "    else:\n",
    "        raise ValueError(\"Unknown soil type.\")\n",
    "\n",
    "delta_qd = vertical_downward_mobilisation(soil, D)\n",
    "delta_qd"
   ]
  },
  {
   "cell_type": "code",
   "execution_count": 41,
   "metadata": {
    "collapsed": true
   },
   "outputs": [],
   "source": [
    "def cot(psi):\n",
    "    return 1 / math.tan(psi)"
   ]
  },
  {
   "cell_type": "code",
   "execution_count": 42,
   "metadata": {},
   "outputs": [
    {
     "data": {
      "text/plain": [
       "35.49026070689833"
      ]
     },
     "execution_count": 42,
     "metadata": {},
     "output_type": "execute_result"
    }
   ],
   "source": [
    "def N_c(psi):\n",
    "    return (N_q(psi) - 1)*cot(psi)\n",
    "\n",
    "N_c(psi)"
   ]
  },
  {
   "cell_type": "code",
   "execution_count": 43,
   "metadata": {},
   "outputs": [
    {
     "data": {
      "text/plain": [
       "30.214652959465663"
      ]
     },
     "execution_count": 43,
     "metadata": {},
     "output_type": "execute_result"
    }
   ],
   "source": [
    "def N_gamma(psi):\n",
    "    return 2*(N_q(psi) + 1)*math.tan(psi)\n",
    "\n",
    "N_gamma(psi)"
   ]
  },
  {
   "cell_type": "markdown",
   "metadata": {},
   "source": [
    "## RC 3"
   ]
  },
  {
   "cell_type": "code",
   "execution_count": 57,
   "metadata": {},
   "outputs": [
    {
     "data": {
      "text/plain": [
       "[30753.320931974013, 48806.870758426507, 66860.420584879001, 84913.97041133148]"
      ]
     },
     "execution_count": 57,
     "metadata": {},
     "output_type": "execute_result"
    }
   ],
   "source": [
    "def vertical_bearing_force(psi, c, D, gamma, H):\n",
    "\n",
    "    return (\n",
    "        N_c(psi) * c * D + N_q(psi) * gamma * H * D + 0.5 * N_gamma(psi) * (gamma + (1025 * 9.81)) * D ** 2\n",
    "    )\n",
    "\n",
    "Q_ds = [vertical_bearing_force(psi, c, D, gamma_bar, burial_depth) for burial_depth in burial_depths]\n",
    "Q_ds"
   ]
  },
  {
   "cell_type": "markdown",
   "metadata": {},
   "source": [
    "## RC 6"
   ]
  },
  {
   "cell_type": "code",
   "execution_count": 58,
   "metadata": {},
   "outputs": [
    {
     "data": {
      "text/plain": [
       "[9225.9962795922038,\n",
       " 14642.061227527951,\n",
       " 20058.126175463698,\n",
       " 25474.191123399443]"
      ]
     },
     "execution_count": 58,
     "metadata": {},
     "output_type": "execute_result"
    }
   ],
   "source": [
    "element_length = el_lengths[0]\n",
    "Q_ds = [element_length * Q_d for Q_d in Q_ds]\n",
    "Q_ds"
   ]
  },
  {
   "cell_type": "markdown",
   "metadata": {},
   "source": [
    "## RC 10"
   ]
  },
  {
   "cell_type": "code",
   "execution_count": 59,
   "metadata": {},
   "outputs": [
    {
     "data": {
      "text/plain": [
       "[92259.962795922038,\n",
       " 146420.61227527951,\n",
       " 200581.26175463697,\n",
       " 254741.91123399444]"
      ]
     },
     "execution_count": 59,
     "metadata": {},
     "output_type": "execute_result"
    }
   ],
   "source": [
    "Q_ds = [10 * Q_d for Q_d in Q_ds]\n",
    "Q_ds"
   ]
  },
  {
   "cell_type": "code",
   "execution_count": null,
   "metadata": {
    "collapsed": true
   },
   "outputs": [],
   "source": []
  }
 ],
 "metadata": {
  "kernelspec": {
   "display_name": "Python 3",
   "language": "python",
   "name": "python3"
  },
  "language_info": {
   "codemirror_mode": {
    "name": "ipython",
    "version": 3
   },
   "file_extension": ".py",
   "mimetype": "text/x-python",
   "name": "python",
   "nbconvert_exporter": "python",
   "pygments_lexer": "ipython3",
   "version": "3.6.3"
  }
 },
 "nbformat": 4,
 "nbformat_minor": 2
}
